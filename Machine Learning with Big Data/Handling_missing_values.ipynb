{
 "cells": [
  {
   "cell_type": "code",
   "execution_count": 1,
   "metadata": {},
   "outputs": [],
   "source": [
    "from pyspark.sql import SQLContext\n",
    "from pyspark.context import SparkContext"
   ]
  },
  {
   "cell_type": "code",
   "execution_count": 2,
   "metadata": {},
   "outputs": [],
   "source": [
    "sc = SparkContext()\n",
    "sqlContext = SQLContext(sc)"
   ]
  },
  {
   "cell_type": "code",
   "execution_count": 3,
   "metadata": {},
   "outputs": [],
   "source": [
    "df=sqlContext.read.load('daily_weather.csv', format='com.databricks.spark.csv', header='true', inferSchema='true')"
   ]
  },
  {
   "cell_type": "code",
   "execution_count": 4,
   "metadata": {},
   "outputs": [
    {
     "data": {
      "text/plain": [
       "DataFrame[number: int, air_pressure_9am: double, air_temp_9am: double, avg_wind_direction_9am: double, avg_wind_speed_9am: double, max_wind_direction_9am: double, max_wind_speed_9am: double, rain_accumulation_9am: double, rain_duration_9am: double, relative_humidity_9am: double, relative_humidity_3pm: double]"
      ]
     },
     "execution_count": 4,
     "metadata": {},
     "output_type": "execute_result"
    }
   ],
   "source": [
    "df"
   ]
  },
  {
   "cell_type": "code",
   "execution_count": 5,
   "metadata": {},
   "outputs": [],
   "source": [
    "import pandas as pd\n",
    "import numpy as np"
   ]
  },
  {
   "cell_type": "code",
   "execution_count": 6,
   "metadata": {},
   "outputs": [
    {
     "data": {
      "text/html": [
       "<div>\n",
       "<style scoped>\n",
       "    .dataframe tbody tr th:only-of-type {\n",
       "        vertical-align: middle;\n",
       "    }\n",
       "\n",
       "    .dataframe tbody tr th {\n",
       "        vertical-align: top;\n",
       "    }\n",
       "\n",
       "    .dataframe thead th {\n",
       "        text-align: right;\n",
       "    }\n",
       "</style>\n",
       "<table border=\"1\" class=\"dataframe\">\n",
       "  <thead>\n",
       "    <tr style=\"text-align: right;\">\n",
       "      <th></th>\n",
       "      <th>number</th>\n",
       "      <th>air_pressure_9am</th>\n",
       "      <th>air_temp_9am</th>\n",
       "      <th>avg_wind_direction_9am</th>\n",
       "      <th>avg_wind_speed_9am</th>\n",
       "      <th>max_wind_direction_9am</th>\n",
       "      <th>max_wind_speed_9am</th>\n",
       "      <th>rain_accumulation_9am</th>\n",
       "      <th>rain_duration_9am</th>\n",
       "      <th>relative_humidity_9am</th>\n",
       "      <th>relative_humidity_3pm</th>\n",
       "    </tr>\n",
       "  </thead>\n",
       "  <tbody>\n",
       "    <tr>\n",
       "      <th>0</th>\n",
       "      <td>0</td>\n",
       "      <td>918.060000</td>\n",
       "      <td>74.822000</td>\n",
       "      <td>271.100000</td>\n",
       "      <td>2.080354</td>\n",
       "      <td>295.400000</td>\n",
       "      <td>2.863283</td>\n",
       "      <td>0.0</td>\n",
       "      <td>0.0</td>\n",
       "      <td>42.420000</td>\n",
       "      <td>36.160000</td>\n",
       "    </tr>\n",
       "    <tr>\n",
       "      <th>1</th>\n",
       "      <td>1</td>\n",
       "      <td>917.347688</td>\n",
       "      <td>71.403843</td>\n",
       "      <td>101.935179</td>\n",
       "      <td>2.443009</td>\n",
       "      <td>140.471549</td>\n",
       "      <td>3.533324</td>\n",
       "      <td>0.0</td>\n",
       "      <td>0.0</td>\n",
       "      <td>24.328697</td>\n",
       "      <td>19.426597</td>\n",
       "    </tr>\n",
       "    <tr>\n",
       "      <th>2</th>\n",
       "      <td>2</td>\n",
       "      <td>923.040000</td>\n",
       "      <td>60.638000</td>\n",
       "      <td>51.000000</td>\n",
       "      <td>17.067852</td>\n",
       "      <td>63.700000</td>\n",
       "      <td>22.100967</td>\n",
       "      <td>0.0</td>\n",
       "      <td>20.0</td>\n",
       "      <td>8.900000</td>\n",
       "      <td>14.460000</td>\n",
       "    </tr>\n",
       "    <tr>\n",
       "      <th>3</th>\n",
       "      <td>3</td>\n",
       "      <td>920.502751</td>\n",
       "      <td>70.138895</td>\n",
       "      <td>198.832133</td>\n",
       "      <td>4.337363</td>\n",
       "      <td>211.203341</td>\n",
       "      <td>5.190045</td>\n",
       "      <td>0.0</td>\n",
       "      <td>0.0</td>\n",
       "      <td>12.189102</td>\n",
       "      <td>12.742547</td>\n",
       "    </tr>\n",
       "    <tr>\n",
       "      <th>4</th>\n",
       "      <td>4</td>\n",
       "      <td>921.160000</td>\n",
       "      <td>44.294000</td>\n",
       "      <td>277.800000</td>\n",
       "      <td>1.856660</td>\n",
       "      <td>136.500000</td>\n",
       "      <td>2.863283</td>\n",
       "      <td>8.9</td>\n",
       "      <td>14730.0</td>\n",
       "      <td>92.410000</td>\n",
       "      <td>76.740000</td>\n",
       "    </tr>\n",
       "  </tbody>\n",
       "</table>\n",
       "</div>"
      ],
      "text/plain": [
       "   number  air_pressure_9am  air_temp_9am  avg_wind_direction_9am  \\\n",
       "0       0        918.060000     74.822000              271.100000   \n",
       "1       1        917.347688     71.403843              101.935179   \n",
       "2       2        923.040000     60.638000               51.000000   \n",
       "3       3        920.502751     70.138895              198.832133   \n",
       "4       4        921.160000     44.294000              277.800000   \n",
       "\n",
       "   avg_wind_speed_9am  max_wind_direction_9am  max_wind_speed_9am  \\\n",
       "0            2.080354              295.400000            2.863283   \n",
       "1            2.443009              140.471549            3.533324   \n",
       "2           17.067852               63.700000           22.100967   \n",
       "3            4.337363              211.203341            5.190045   \n",
       "4            1.856660              136.500000            2.863283   \n",
       "\n",
       "   rain_accumulation_9am  rain_duration_9am  relative_humidity_9am  \\\n",
       "0                    0.0                0.0              42.420000   \n",
       "1                    0.0                0.0              24.328697   \n",
       "2                    0.0               20.0               8.900000   \n",
       "3                    0.0                0.0              12.189102   \n",
       "4                    8.9            14730.0              92.410000   \n",
       "\n",
       "   relative_humidity_3pm  \n",
       "0              36.160000  \n",
       "1              19.426597  \n",
       "2              14.460000  \n",
       "3              12.742547  \n",
       "4              76.740000  "
      ]
     },
     "execution_count": 6,
     "metadata": {},
     "output_type": "execute_result"
    }
   ],
   "source": [
    "df1 = pd.read_csv('daily_weather.csv')\n",
    "df1.head()"
   ]
  },
  {
   "cell_type": "code",
   "execution_count": 14,
   "metadata": {},
   "outputs": [
    {
     "data": {
      "text/html": [
       "<div>\n",
       "<style scoped>\n",
       "    .dataframe tbody tr th:only-of-type {\n",
       "        vertical-align: middle;\n",
       "    }\n",
       "\n",
       "    .dataframe tbody tr th {\n",
       "        vertical-align: top;\n",
       "    }\n",
       "\n",
       "    .dataframe thead th {\n",
       "        text-align: right;\n",
       "    }\n",
       "</style>\n",
       "<table border=\"1\" class=\"dataframe\">\n",
       "  <thead>\n",
       "    <tr style=\"text-align: right;\">\n",
       "      <th></th>\n",
       "      <th>count</th>\n",
       "      <th>mean</th>\n",
       "      <th>std</th>\n",
       "      <th>min</th>\n",
       "      <th>25%</th>\n",
       "      <th>50%</th>\n",
       "      <th>75%</th>\n",
       "      <th>max</th>\n",
       "    </tr>\n",
       "  </thead>\n",
       "  <tbody>\n",
       "    <tr>\n",
       "      <th>number</th>\n",
       "      <td>1095.0</td>\n",
       "      <td>547.000000</td>\n",
       "      <td>316.243577</td>\n",
       "      <td>0.000000</td>\n",
       "      <td>273.500000</td>\n",
       "      <td>547.000000</td>\n",
       "      <td>820.500000</td>\n",
       "      <td>1094.000000</td>\n",
       "    </tr>\n",
       "    <tr>\n",
       "      <th>air_pressure_9am</th>\n",
       "      <td>1092.0</td>\n",
       "      <td>918.882551</td>\n",
       "      <td>3.184161</td>\n",
       "      <td>907.990000</td>\n",
       "      <td>916.550000</td>\n",
       "      <td>918.921045</td>\n",
       "      <td>921.160073</td>\n",
       "      <td>929.320000</td>\n",
       "    </tr>\n",
       "    <tr>\n",
       "      <th>air_temp_9am</th>\n",
       "      <td>1090.0</td>\n",
       "      <td>64.933001</td>\n",
       "      <td>11.175514</td>\n",
       "      <td>36.752000</td>\n",
       "      <td>57.281000</td>\n",
       "      <td>65.715479</td>\n",
       "      <td>73.450974</td>\n",
       "      <td>98.906000</td>\n",
       "    </tr>\n",
       "    <tr>\n",
       "      <th>avg_wind_direction_9am</th>\n",
       "      <td>1091.0</td>\n",
       "      <td>142.235511</td>\n",
       "      <td>69.137859</td>\n",
       "      <td>15.500000</td>\n",
       "      <td>65.972506</td>\n",
       "      <td>166.000000</td>\n",
       "      <td>191.000000</td>\n",
       "      <td>343.400000</td>\n",
       "    </tr>\n",
       "    <tr>\n",
       "      <th>avg_wind_speed_9am</th>\n",
       "      <td>1092.0</td>\n",
       "      <td>5.508284</td>\n",
       "      <td>4.552813</td>\n",
       "      <td>0.693451</td>\n",
       "      <td>2.248768</td>\n",
       "      <td>3.871333</td>\n",
       "      <td>7.337163</td>\n",
       "      <td>23.554978</td>\n",
       "    </tr>\n",
       "    <tr>\n",
       "      <th>max_wind_direction_9am</th>\n",
       "      <td>1092.0</td>\n",
       "      <td>148.953518</td>\n",
       "      <td>67.238013</td>\n",
       "      <td>28.900000</td>\n",
       "      <td>76.553003</td>\n",
       "      <td>177.300000</td>\n",
       "      <td>201.233153</td>\n",
       "      <td>312.200000</td>\n",
       "    </tr>\n",
       "    <tr>\n",
       "      <th>max_wind_speed_9am</th>\n",
       "      <td>1091.0</td>\n",
       "      <td>7.019514</td>\n",
       "      <td>5.598209</td>\n",
       "      <td>1.185578</td>\n",
       "      <td>3.067477</td>\n",
       "      <td>4.943637</td>\n",
       "      <td>8.947760</td>\n",
       "      <td>29.840780</td>\n",
       "    </tr>\n",
       "    <tr>\n",
       "      <th>rain_accumulation_9am</th>\n",
       "      <td>1089.0</td>\n",
       "      <td>0.203079</td>\n",
       "      <td>1.593952</td>\n",
       "      <td>0.000000</td>\n",
       "      <td>0.000000</td>\n",
       "      <td>0.000000</td>\n",
       "      <td>0.000000</td>\n",
       "      <td>24.020000</td>\n",
       "    </tr>\n",
       "    <tr>\n",
       "      <th>rain_duration_9am</th>\n",
       "      <td>1092.0</td>\n",
       "      <td>294.108052</td>\n",
       "      <td>1598.078779</td>\n",
       "      <td>0.000000</td>\n",
       "      <td>0.000000</td>\n",
       "      <td>0.000000</td>\n",
       "      <td>0.000000</td>\n",
       "      <td>17704.000000</td>\n",
       "    </tr>\n",
       "    <tr>\n",
       "      <th>relative_humidity_9am</th>\n",
       "      <td>1095.0</td>\n",
       "      <td>34.241402</td>\n",
       "      <td>25.472067</td>\n",
       "      <td>6.090000</td>\n",
       "      <td>15.092243</td>\n",
       "      <td>23.179259</td>\n",
       "      <td>45.400000</td>\n",
       "      <td>92.620000</td>\n",
       "    </tr>\n",
       "    <tr>\n",
       "      <th>relative_humidity_3pm</th>\n",
       "      <td>1095.0</td>\n",
       "      <td>35.344727</td>\n",
       "      <td>22.524079</td>\n",
       "      <td>5.300000</td>\n",
       "      <td>17.395000</td>\n",
       "      <td>24.380000</td>\n",
       "      <td>52.060000</td>\n",
       "      <td>92.250000</td>\n",
       "    </tr>\n",
       "  </tbody>\n",
       "</table>\n",
       "</div>"
      ],
      "text/plain": [
       "                         count        mean          std         min  \\\n",
       "number                  1095.0  547.000000   316.243577    0.000000   \n",
       "air_pressure_9am        1092.0  918.882551     3.184161  907.990000   \n",
       "air_temp_9am            1090.0   64.933001    11.175514   36.752000   \n",
       "avg_wind_direction_9am  1091.0  142.235511    69.137859   15.500000   \n",
       "avg_wind_speed_9am      1092.0    5.508284     4.552813    0.693451   \n",
       "max_wind_direction_9am  1092.0  148.953518    67.238013   28.900000   \n",
       "max_wind_speed_9am      1091.0    7.019514     5.598209    1.185578   \n",
       "rain_accumulation_9am   1089.0    0.203079     1.593952    0.000000   \n",
       "rain_duration_9am       1092.0  294.108052  1598.078779    0.000000   \n",
       "relative_humidity_9am   1095.0   34.241402    25.472067    6.090000   \n",
       "relative_humidity_3pm   1095.0   35.344727    22.524079    5.300000   \n",
       "\n",
       "                               25%         50%         75%           max  \n",
       "number                  273.500000  547.000000  820.500000   1094.000000  \n",
       "air_pressure_9am        916.550000  918.921045  921.160073    929.320000  \n",
       "air_temp_9am             57.281000   65.715479   73.450974     98.906000  \n",
       "avg_wind_direction_9am   65.972506  166.000000  191.000000    343.400000  \n",
       "avg_wind_speed_9am        2.248768    3.871333    7.337163     23.554978  \n",
       "max_wind_direction_9am   76.553003  177.300000  201.233153    312.200000  \n",
       "max_wind_speed_9am        3.067477    4.943637    8.947760     29.840780  \n",
       "rain_accumulation_9am     0.000000    0.000000    0.000000     24.020000  \n",
       "rain_duration_9am         0.000000    0.000000    0.000000  17704.000000  \n",
       "relative_humidity_9am    15.092243   23.179259   45.400000     92.620000  \n",
       "relative_humidity_3pm    17.395000   24.380000   52.060000     92.250000  "
      ]
     },
     "execution_count": 14,
     "metadata": {},
     "output_type": "execute_result"
    }
   ],
   "source": [
    "df.toPandas().describe().transpose()"
   ]
  },
  {
   "cell_type": "code",
   "execution_count": 15,
   "metadata": {},
   "outputs": [
    {
     "name": "stdout",
     "output_type": "stream",
     "text": [
      "+-------+------------------+\n",
      "|summary|      air_temp_9am|\n",
      "+-------+------------------+\n",
      "|  count|              1090|\n",
      "|   mean| 64.93300141293575|\n",
      "| stddev|11.175514003266809|\n",
      "|    min|            36.752|\n",
      "|    max|            98.906|\n",
      "+-------+------------------+\n",
      "\n"
     ]
    }
   ],
   "source": [
    "df.describe(['air_temp_9am']).show()"
   ]
  },
  {
   "cell_type": "code",
   "execution_count": 16,
   "metadata": {},
   "outputs": [
    {
     "data": {
      "text/plain": [
       "1095"
      ]
     },
     "execution_count": 16,
     "metadata": {},
     "output_type": "execute_result"
    }
   ],
   "source": [
    "df.count()"
   ]
  },
  {
   "cell_type": "code",
   "execution_count": 26,
   "metadata": {},
   "outputs": [
    {
     "data": {
      "text/plain": [
       "Column<b'air_temp_9am'>"
      ]
     },
     "execution_count": 26,
     "metadata": {},
     "output_type": "execute_result"
    }
   ],
   "source": [
    "removeAllDF = df.na.drop()\n",
    "removeAllDF['air_temp_9am']\n",
    "# removeAllDF.describe(['air_temp_9am']).show()"
   ]
  },
  {
   "cell_type": "code",
   "execution_count": 19,
   "metadata": {},
   "outputs": [
    {
     "data": {
      "text/plain": [
       "1064"
      ]
     },
     "execution_count": 19,
     "metadata": {},
     "output_type": "execute_result"
    }
   ],
   "source": [
    "removeAllDF.count()"
   ]
  },
  {
   "cell_type": "code",
   "execution_count": 20,
   "metadata": {},
   "outputs": [],
   "source": [
    "from pyspark.sql.functions import avg\n",
    "imputeDF = df"
   ]
  },
  {
   "cell_type": "code",
   "execution_count": 23,
   "metadata": {},
   "outputs": [
    {
     "name": "stdout",
     "output_type": "stream",
     "text": [
      "number 545.0018796992481\n",
      "air_pressure_9am 918.9031798643798\n",
      "air_temp_9am 65.02260949566728\n",
      "avg_wind_direction_9am 142.3067556490319\n",
      "avg_wind_speed_9am 5.485793050719923\n",
      "max_wind_direction_9am 148.48042413302613\n",
      "max_wind_speed_9am 6.99971365887782\n",
      "rain_accumulation_9am 0.1820234765093985\n",
      "rain_duration_9am 266.3936973989333\n",
      "relative_humidity_9am 34.07743985330167\n",
      "relative_humidity_3pm 35.14838093288156\n"
     ]
    }
   ],
   "source": [
    "for x in imputeDF.columns:\n",
    "    meanValue = removeAllDF.agg(avg(x)).first()[0]\n",
    "    print(x,meanValue)\n",
    "    imputeDF = imputeDF.na.fill(meanValue,[x])"
   ]
  },
  {
   "cell_type": "code",
   "execution_count": 24,
   "metadata": {},
   "outputs": [
    {
     "name": "stdout",
     "output_type": "stream",
     "text": [
      "+-------+------------------+\n",
      "|summary|      air_temp_9am|\n",
      "+-------+------------------+\n",
      "|  count|              1090|\n",
      "|   mean| 64.93300141293575|\n",
      "| stddev|11.175514003266809|\n",
      "|    min|            36.752|\n",
      "|    max|            98.906|\n",
      "+-------+------------------+\n",
      "\n",
      "+-------+------------------+\n",
      "|summary|      air_temp_9am|\n",
      "+-------+------------------+\n",
      "|  count|              1095|\n",
      "|   mean| 64.93341058226329|\n",
      "| stddev|11.149948200010943|\n",
      "|    min|            36.752|\n",
      "|    max|            98.906|\n",
      "+-------+------------------+\n",
      "\n"
     ]
    }
   ],
   "source": [
    "df.describe(['air_temp_9am']).show()\n",
    "imputeDF.describe(['air_temp_9am']).show()"
   ]
  }
 ],
 "metadata": {
  "kernelspec": {
   "display_name": "Python 3",
   "language": "python",
   "name": "python3"
  },
  "language_info": {
   "codemirror_mode": {
    "name": "ipython",
    "version": 3
   },
   "file_extension": ".py",
   "mimetype": "text/x-python",
   "name": "python",
   "nbconvert_exporter": "python",
   "pygments_lexer": "ipython3",
   "version": "3.6.6"
  }
 },
 "nbformat": 4,
 "nbformat_minor": 2
}
